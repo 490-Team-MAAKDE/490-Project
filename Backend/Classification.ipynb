{
  "nbformat": 4,
  "nbformat_minor": 0,
  "metadata": {
    "colab": {
      "provenance": []
    },
    "kernelspec": {
      "name": "python3",
      "display_name": "Python 3"
    },
    "language_info": {
      "name": "python"
    },
    "accelerator": "GPU",
    "gpuClass": "standard"
  },
  "cells": [
    {
      "cell_type": "markdown",
      "source": [
        "#Clothing Apprarel Classification\n"
      ],
      "metadata": {
        "id": "c47CXYET-rXy"
      }
    },
    {
      "cell_type": "code",
      "execution_count": 29,
      "metadata": {
        "id": "TNdDcir5-juv"
      },
      "outputs": [],
      "source": [
        "# Import needed libraries\n",
        "import numpy as np\n",
        "from keras.datasets import fashion_mnist"
      ]
    },
    {
      "cell_type": "markdown",
      "source": [
        "\n",
        "\n",
        "```\n",
        "Using Tensorflow as our Backend\n",
        "```\n",
        "\n"
      ],
      "metadata": {
        "id": "HJAG0Fam_ziN"
      }
    },
    {
      "cell_type": "code",
      "source": [
        "# Load fashion MNIST dataset\n",
        "(x_train, y_train), (x_test, y_test) = fashion_mnist.load_data()"
      ],
      "metadata": {
        "id": "DD_XgGzi-o9B",
        "colab": {
          "base_uri": "https://localhost:8080/"
        },
        "outputId": "9a7d9d76-8b85-442d-cad5-d6605e22fbcd"
      },
      "execution_count": 8,
      "outputs": [
        {
          "output_type": "stream",
          "name": "stdout",
          "text": [
            "Downloading data from https://storage.googleapis.com/tensorflow/tf-keras-datasets/train-labels-idx1-ubyte.gz\n",
            "29515/29515 [==============================] - 0s 0us/step\n",
            "Downloading data from https://storage.googleapis.com/tensorflow/tf-keras-datasets/train-images-idx3-ubyte.gz\n",
            "26421880/26421880 [==============================] - 2s 0us/step\n",
            "Downloading data from https://storage.googleapis.com/tensorflow/tf-keras-datasets/t10k-labels-idx1-ubyte.gz\n",
            "5148/5148 [==============================] - 0s 0us/step\n",
            "Downloading data from https://storage.googleapis.com/tensorflow/tf-keras-datasets/t10k-images-idx3-ubyte.gz\n",
            "4422102/4422102 [==============================] - 0s 0us/step\n"
          ]
        }
      ]
    },
    {
      "cell_type": "code",
      "source": [
        "# Explore the dataset\n",
        "# Checking shape /size of each train and their test\n",
        "print(\"Number of samples/observations in training data: \" + str(len(x_train)))\n",
        "print(\"Number of labels in training data: \" + str(len(y_train)))\n",
        "print(\"Dimensions of single image in x_train: \" + str(x_train[0].shape))\n",
        "print(\"---------------------------------------------------------------------\")\n",
        "print(\"Number of samples/observations in test data: \" + str(len(x_test)))\n",
        "print(\"Number of labels in test data: \" + str(len(y_test)))\n",
        "print(\"Dimensions of single image in x_test: \" + str(x_test[0].shape))"
      ],
      "metadata": {
        "colab": {
          "base_uri": "https://localhost:8080/"
        },
        "id": "RLbOI53zDFur",
        "outputId": "e2063e44-a65a-4203-d012-502681d452a7"
      },
      "execution_count": 9,
      "outputs": [
        {
          "output_type": "stream",
          "name": "stdout",
          "text": [
            "Number of samples/observations in training data: 60000\n",
            "Number of labels in training data: 60000\n",
            "Dimensions of single image in x_train: (28, 28)\n",
            "---------------------------------------------------------------------\n",
            "Number of samples/observations in test data: 10000\n",
            "Number of labels in test data: 10000\n",
            "Dimensions of single image in x_test: (28, 28)\n"
          ]
        }
      ]
    },
    {
      "cell_type": "markdown",
      "source": [
        "#View Sample Images\n"
      ],
      "metadata": {
        "id": "m5xDTxWbGOew"
      }
    },
    {
      "cell_type": "code",
      "source": [
        "# Visualization library to visualize images\n",
        "import matplotlib.pyplot as plt\n",
        "\n",
        "# Plotting 5 images, Subplot arguments represents nrows, ncols, and index\n",
        "# Color map is set to grey since our image dataset will be greyscale\n",
        "plt.subplot(231)\n",
        "random_num = np.random.randint(0, len(x_train))\n",
        "plt.imshow(x_train[random_num], cmap = plt.get_cmap('gray'))\n",
        "\n",
        "plt.subplot(232)\n",
        "random_num = np.random.randint(0, len(x_train))\n",
        "plt.imshow(x_train[random_num], cmap = plt.get_cmap('gray'))\n",
        "\n",
        "plt.subplot(233)\n",
        "random_num = np.random.randint(0, len(x_train))\n",
        "plt.imshow(x_train[random_num], cmap = plt.get_cmap('gray'))\n",
        "\n",
        "plt.subplot(234)\n",
        "random_num = np.random.randint(0, len(x_train))\n",
        "plt.imshow(x_train[random_num], cmap = plt.get_cmap('gray'))\n",
        "\n",
        "plt.subplot(235)\n",
        "random_num = np.random.randint(0, len(x_train))\n",
        "plt.imshow(x_train[random_num], cmap = plt.get_cmap('gray'))\n",
        "\n",
        "# Visualize the images\n",
        "plt.show()"
      ],
      "metadata": {
        "colab": {
          "base_uri": "https://localhost:8080/",
          "height": 267
        },
        "id": "4lWmENjbGTZE",
        "outputId": "1b546878-51ea-48fe-fb1e-7f664bc3c17b"
      },
      "execution_count": 10,
      "outputs": [
        {
          "output_type": "display_data",
          "data": {
            "text/plain": [
              "<Figure size 432x288 with 5 Axes>"
            ],
            "image/png": "[encoded data removed]"
          },
          "metadata": {
            "needs_background": "light"
          }
        }
      ]
    },
    {
      "cell_type": "code",
      "source": [
        "# Import necessary keras specific libraries\n",
        "from keras.utils import np_utils\n",
        "import keras\n",
        "from keras.models import Sequential\n",
        "from keras.layers import Dense, Dropout, Flatten\n",
        "from keras.layers import Conv2D, MaxPooling2D, BatchNormalization\n",
        "from keras import backend as K\n",
        "\n",
        "# Setting Training Parameters like batch_size and epochs\n",
        "batch_size = 128\n",
        "epochs = 100\n",
        "\n",
        "# Storing numbers from rows and columns\n",
        "img_rows = x_train[0].shape[0]\n",
        "img_cols = x_train[1].shape[0]\n",
        "\n",
        "# Data being put into the right shape as it is required by Keras means to change the dimension of (60000, 28, 28) to (60000, 28, 28, 1)\n",
        "x_train = x_train.reshape(x_train.shape[0], img_rows, img_cols, 1)\n",
        "x_test = x_test.reshape(x_test.shape[0], img_rows, img_cols, 1)\n",
        "\n",
        "# Store the shape of single image\n",
        "input_shape = (img_rows, img_cols, 1)\n",
        "\n",
        "# Change the image type to a float32 type\n",
        "x_train = x_train.astype('float32')\n",
        "x_test = x_test.astype('float32')\n",
        "\n",
        "# Change the range from (0 - 255) to (0 - 1)\n",
        "x_train /= 255\n",
        "x_test /= 255\n",
        "\n",
        "# Hot encoding performed\n",
        "y_train = np_utils.to_categorical(y_train)\n",
        "y_test = np_utils.to_categorical(y_test)\n",
        "\n",
        "# Number of pixls and classes calculated\n",
        "num_classes = y_test.shape[1]\n",
        "num_pixels = x_train.shape[1] * x_train.shape[2]\n",
        "\n",
        "# CNN Model is created here\n",
        "model = Sequential()\n",
        "\n",
        "model.add(Conv2D(32, kernel_size=(3, 3),\n",
        "                 activation='relu',\n",
        "                 input_shape=input_shape))\n",
        "\n",
        "model.add(BatchNormalization())\n",
        "\n",
        "model.add(Conv2D(64, (3, 3), activation='relu'))\n",
        "model.add(BatchNormalization())\n",
        "\n",
        "model.add(MaxPooling2D(pool_size=(2, 2)))\n",
        "model.add(Dropout(0.25))\n",
        "\n",
        "model.add(Flatten())\n",
        "model.add(Dense(128, activation='relu'))\n",
        "model.add(BatchNormalization())\n",
        "\n",
        "model.add(Dropout(0.5))\n",
        "model.add(Dense(num_classes, activation='softmax'))\n",
        "\n",
        "model.compile(loss = 'categorical_crossentropy',\n",
        "              optimizer = keras.optimizers.Adadelta(),\n",
        "              metrics = ['accuracy'])\n",
        "\n",
        "print(model.summary())\n",
        "\n"
      ],
      "metadata": {
        "colab": {
          "base_uri": "https://localhost:8080/"
        },
        "id": "af5rtiapRtuT",
        "outputId": "850e579c-70c4-404c-9ca0-b59c5cbbb03b"
      },
      "execution_count": 11,
      "outputs": [
        {
          "output_type": "stream",
          "name": "stdout",
          "text": [
            "Model: \"sequential\"\n",
            "_________________________________________________________________\n",
            " Layer (type)                Output Shape              Param #   \n",
            "=================================================================\n",
            " conv2d (Conv2D)             (None, 26, 26, 32)        320       \n",
            "                                                                 \n",
            " batch_normalization (BatchN  (None, 26, 26, 32)       128       \n",
            " ormalization)                                                   \n",
            "                                                                 \n",
            " conv2d_1 (Conv2D)           (None, 24, 24, 64)        18496     \n",
            "                                                                 \n",
            " batch_normalization_1 (Batc  (None, 24, 24, 64)       256       \n",
            " hNormalization)                                                 \n",
            "                                                                 \n",
            " max_pooling2d (MaxPooling2D  (None, 12, 12, 64)       0         \n",
            " )                                                               \n",
            "                                                                 \n",
            " dropout (Dropout)           (None, 12, 12, 64)        0         \n",
            "                                                                 \n",
            " flatten (Flatten)           (None, 9216)              0         \n",
            "                                                                 \n",
            " dense (Dense)               (None, 128)               1179776   \n",
            "                                                                 \n",
            " batch_normalization_2 (Batc  (None, 128)              512       \n",
            " hNormalization)                                                 \n",
            "                                                                 \n",
            " dropout_1 (Dropout)         (None, 128)               0         \n",
            "                                                                 \n",
            " dense_1 (Dense)             (None, 10)                1290      \n",
            "                                                                 \n",
            "=================================================================\n",
            "Total params: 1,200,778\n",
            "Trainable params: 1,200,330\n",
            "Non-trainable params: 448\n",
            "_________________________________________________________________\n",
            "None\n"
          ]
        }
      ]
    },
    {
      "cell_type": "markdown",
      "source": [
        "#Time To Train the Model"
      ],
      "metadata": {
        "id": "uxm7Bj5LZE2a"
      }
    },
    {
      "cell_type": "code",
      "source": [
        "model_fitting = model.fit(x_train, y_train,\n",
        "                          batch_size = batch_size,\n",
        "                          epochs = epochs,\n",
        "                          verbose = 1,\n",
        "                          validation_data = (x_test, y_test))\n",
        "\n",
        "score = model.evaluate(x_test, y_test, verbose = 0)\n",
        "print('Test loss: ', score[0])\n",
        "print('Test accuracy', score[1])"
      ],
      "metadata": {
        "colab": {
          "base_uri": "https://localhost:8080/"
        },
        "id": "6x44IPX5ZI4U",
        "outputId": "17604088-bfbe-48f2-df5f-c613eb3c3366"
      },
      "execution_count": 12,
      "outputs": [
        {
          "output_type": "stream",
          "name": "stdout",
          "text": [
            "Epoch 1/100\n",
            "469/469 [==============================] - 14s 12ms/step - loss: 2.5697 - accuracy: 0.2751 - val_loss: 1.4846 - val_accuracy: 0.5152\n",
            "Epoch 2/100\n",
            "469/469 [==============================] - 5s 11ms/step - loss: 1.5764 - accuracy: 0.5036 - val_loss: 0.8846 - val_accuracy: 0.6986\n",
            "Epoch 3/100\n",
            "469/469 [==============================] - 5s 11ms/step - loss: 1.2684 - accuracy: 0.5960 - val_loss: 0.7704 - val_accuracy: 0.7319\n",
            "Epoch 4/100\n",
            "469/469 [==============================] - 5s 10ms/step - loss: 1.1040 - accuracy: 0.6445 - val_loss: 0.7023 - val_accuracy: 0.7552\n",
            "Epoch 5/100\n",
            "469/469 [==============================] - 5s 11ms/step - loss: 1.0021 - accuracy: 0.6748 - val_loss: 0.6563 - val_accuracy: 0.7715\n",
            "Epoch 6/100\n",
            "469/469 [==============================] - 5s 11ms/step - loss: 0.9383 - accuracy: 0.6923 - val_loss: 0.6233 - val_accuracy: 0.7810\n",
            "Epoch 7/100\n",
            "469/469 [==============================] - 5s 10ms/step - loss: 0.8858 - accuracy: 0.7099 - val_loss: 0.5985 - val_accuracy: 0.7894\n",
            "Epoch 8/100\n",
            "469/469 [==============================] - 5s 10ms/step - loss: 0.8512 - accuracy: 0.7196 - val_loss: 0.5781 - val_accuracy: 0.7964\n",
            "Epoch 9/100\n",
            "469/469 [==============================] - 5s 11ms/step - loss: 0.8056 - accuracy: 0.7329 - val_loss: 0.5607 - val_accuracy: 0.8036\n",
            "Epoch 10/100\n",
            "469/469 [==============================] - 5s 10ms/step - loss: 0.7886 - accuracy: 0.7393 - val_loss: 0.5455 - val_accuracy: 0.8089\n",
            "Epoch 11/100\n",
            "469/469 [==============================] - 5s 11ms/step - loss: 0.7542 - accuracy: 0.7481 - val_loss: 0.5339 - val_accuracy: 0.8128\n",
            "Epoch 12/100\n",
            "469/469 [==============================] - 5s 10ms/step - loss: 0.7373 - accuracy: 0.7538 - val_loss: 0.5223 - val_accuracy: 0.8173\n",
            "Epoch 13/100\n",
            "469/469 [==============================] - 5s 11ms/step - loss: 0.7208 - accuracy: 0.7610 - val_loss: 0.5127 - val_accuracy: 0.8208\n",
            "Epoch 14/100\n",
            "469/469 [==============================] - 5s 11ms/step - loss: 0.7008 - accuracy: 0.7646 - val_loss: 0.5024 - val_accuracy: 0.8257\n",
            "Epoch 15/100\n",
            "469/469 [==============================] - 5s 11ms/step - loss: 0.6891 - accuracy: 0.7700 - val_loss: 0.4956 - val_accuracy: 0.8283\n",
            "Epoch 16/100\n",
            "469/469 [==============================] - 5s 11ms/step - loss: 0.6724 - accuracy: 0.7729 - val_loss: 0.4876 - val_accuracy: 0.8310\n",
            "Epoch 17/100\n",
            "469/469 [==============================] - 5s 11ms/step - loss: 0.6621 - accuracy: 0.7785 - val_loss: 0.4823 - val_accuracy: 0.8326\n",
            "Epoch 18/100\n",
            "469/469 [==============================] - 5s 11ms/step - loss: 0.6498 - accuracy: 0.7811 - val_loss: 0.4760 - val_accuracy: 0.8337\n",
            "Epoch 19/100\n",
            "469/469 [==============================] - 5s 11ms/step - loss: 0.6397 - accuracy: 0.7862 - val_loss: 0.4698 - val_accuracy: 0.8355\n",
            "Epoch 20/100\n",
            "469/469 [==============================] - 5s 11ms/step - loss: 0.6293 - accuracy: 0.7880 - val_loss: 0.4640 - val_accuracy: 0.8378\n",
            "Epoch 21/100\n",
            "469/469 [==============================] - 5s 11ms/step - loss: 0.6234 - accuracy: 0.7895 - val_loss: 0.4590 - val_accuracy: 0.8399\n",
            "Epoch 22/100\n",
            "469/469 [==============================] - 5s 11ms/step - loss: 0.6121 - accuracy: 0.7930 - val_loss: 0.4547 - val_accuracy: 0.8409\n",
            "Epoch 23/100\n",
            "469/469 [==============================] - 5s 11ms/step - loss: 0.6084 - accuracy: 0.7961 - val_loss: 0.4505 - val_accuracy: 0.8419\n",
            "Epoch 24/100\n",
            "469/469 [==============================] - 5s 11ms/step - loss: 0.5975 - accuracy: 0.8001 - val_loss: 0.4472 - val_accuracy: 0.8431\n",
            "Epoch 25/100\n",
            "469/469 [==============================] - 5s 11ms/step - loss: 0.5901 - accuracy: 0.8004 - val_loss: 0.4425 - val_accuracy: 0.8451\n",
            "Epoch 26/100\n",
            "469/469 [==============================] - 5s 10ms/step - loss: 0.5851 - accuracy: 0.8017 - val_loss: 0.4391 - val_accuracy: 0.8468\n",
            "Epoch 27/100\n",
            "469/469 [==============================] - 5s 11ms/step - loss: 0.5789 - accuracy: 0.8056 - val_loss: 0.4358 - val_accuracy: 0.8477\n",
            "Epoch 28/100\n",
            "469/469 [==============================] - 5s 10ms/step - loss: 0.5717 - accuracy: 0.8072 - val_loss: 0.4329 - val_accuracy: 0.8495\n",
            "Epoch 29/100\n",
            "469/469 [==============================] - 5s 10ms/step - loss: 0.5699 - accuracy: 0.8073 - val_loss: 0.4292 - val_accuracy: 0.8510\n",
            "Epoch 30/100\n",
            "469/469 [==============================] - 5s 11ms/step - loss: 0.5620 - accuracy: 0.8112 - val_loss: 0.4267 - val_accuracy: 0.8515\n",
            "Epoch 31/100\n",
            "469/469 [==============================] - 5s 11ms/step - loss: 0.5578 - accuracy: 0.8107 - val_loss: 0.4235 - val_accuracy: 0.8528\n",
            "Epoch 32/100\n",
            "469/469 [==============================] - 5s 11ms/step - loss: 0.5511 - accuracy: 0.8123 - val_loss: 0.4208 - val_accuracy: 0.8542\n",
            "Epoch 33/100\n",
            "469/469 [==============================] - 5s 11ms/step - loss: 0.5429 - accuracy: 0.8167 - val_loss: 0.4182 - val_accuracy: 0.8547\n",
            "Epoch 34/100\n",
            "469/469 [==============================] - 5s 10ms/step - loss: 0.5433 - accuracy: 0.8162 - val_loss: 0.4150 - val_accuracy: 0.8562\n",
            "Epoch 35/100\n",
            "469/469 [==============================] - 5s 11ms/step - loss: 0.5411 - accuracy: 0.8168 - val_loss: 0.4133 - val_accuracy: 0.8567\n",
            "Epoch 36/100\n",
            "469/469 [==============================] - 6s 12ms/step - loss: 0.5357 - accuracy: 0.8193 - val_loss: 0.4107 - val_accuracy: 0.8571\n",
            "Epoch 37/100\n",
            "469/469 [==============================] - 5s 11ms/step - loss: 0.5310 - accuracy: 0.8220 - val_loss: 0.4082 - val_accuracy: 0.8580\n",
            "Epoch 38/100\n",
            "469/469 [==============================] - 5s 11ms/step - loss: 0.5315 - accuracy: 0.8217 - val_loss: 0.4060 - val_accuracy: 0.8579\n",
            "Epoch 39/100\n",
            "469/469 [==============================] - 5s 11ms/step - loss: 0.5264 - accuracy: 0.8204 - val_loss: 0.4039 - val_accuracy: 0.8588\n",
            "Epoch 40/100\n",
            "469/469 [==============================] - 5s 11ms/step - loss: 0.5210 - accuracy: 0.8221 - val_loss: 0.4013 - val_accuracy: 0.8601\n",
            "Epoch 41/100\n",
            "469/469 [==============================] - 5s 11ms/step - loss: 0.5142 - accuracy: 0.8253 - val_loss: 0.3996 - val_accuracy: 0.8601\n",
            "Epoch 42/100\n",
            "469/469 [==============================] - 5s 11ms/step - loss: 0.5105 - accuracy: 0.8258 - val_loss: 0.3977 - val_accuracy: 0.8608\n",
            "Epoch 43/100\n",
            "469/469 [==============================] - 5s 11ms/step - loss: 0.5050 - accuracy: 0.8290 - val_loss: 0.3956 - val_accuracy: 0.8613\n",
            "Epoch 44/100\n",
            "469/469 [==============================] - 5s 11ms/step - loss: 0.5062 - accuracy: 0.8284 - val_loss: 0.3936 - val_accuracy: 0.8622\n",
            "Epoch 45/100\n",
            "469/469 [==============================] - 5s 11ms/step - loss: 0.4979 - accuracy: 0.8305 - val_loss: 0.3919 - val_accuracy: 0.8624\n",
            "Epoch 46/100\n",
            "469/469 [==============================] - 5s 11ms/step - loss: 0.4944 - accuracy: 0.8313 - val_loss: 0.3899 - val_accuracy: 0.8630\n",
            "Epoch 47/100\n",
            "469/469 [==============================] - 5s 11ms/step - loss: 0.4987 - accuracy: 0.8305 - val_loss: 0.3881 - val_accuracy: 0.8638\n",
            "Epoch 48/100\n",
            "469/469 [==============================] - 5s 11ms/step - loss: 0.4931 - accuracy: 0.8314 - val_loss: 0.3871 - val_accuracy: 0.8644\n",
            "Epoch 49/100\n",
            "469/469 [==============================] - 5s 11ms/step - loss: 0.4913 - accuracy: 0.8334 - val_loss: 0.3853 - val_accuracy: 0.8641\n",
            "Epoch 50/100\n",
            "469/469 [==============================] - 5s 11ms/step - loss: 0.4836 - accuracy: 0.8348 - val_loss: 0.3839 - val_accuracy: 0.8646\n",
            "Epoch 51/100\n",
            "469/469 [==============================] - 5s 11ms/step - loss: 0.4815 - accuracy: 0.8365 - val_loss: 0.3823 - val_accuracy: 0.8643\n",
            "Epoch 52/100\n",
            "469/469 [==============================] - 5s 11ms/step - loss: 0.4797 - accuracy: 0.8377 - val_loss: 0.3800 - val_accuracy: 0.8662\n",
            "Epoch 53/100\n",
            "469/469 [==============================] - 5s 11ms/step - loss: 0.4799 - accuracy: 0.8377 - val_loss: 0.3785 - val_accuracy: 0.8671\n",
            "Epoch 54/100\n",
            "469/469 [==============================] - 5s 11ms/step - loss: 0.4752 - accuracy: 0.8391 - val_loss: 0.3773 - val_accuracy: 0.8677\n",
            "Epoch 55/100\n",
            "469/469 [==============================] - 5s 11ms/step - loss: 0.4771 - accuracy: 0.8383 - val_loss: 0.3760 - val_accuracy: 0.8672\n",
            "Epoch 56/100\n",
            "469/469 [==============================] - 5s 11ms/step - loss: 0.4705 - accuracy: 0.8406 - val_loss: 0.3748 - val_accuracy: 0.8676\n",
            "Epoch 57/100\n",
            "469/469 [==============================] - 5s 11ms/step - loss: 0.4654 - accuracy: 0.8404 - val_loss: 0.3729 - val_accuracy: 0.8677\n",
            "Epoch 58/100\n",
            "469/469 [==============================] - 5s 11ms/step - loss: 0.4649 - accuracy: 0.8413 - val_loss: 0.3714 - val_accuracy: 0.8681\n",
            "Epoch 59/100\n",
            "469/469 [==============================] - 5s 11ms/step - loss: 0.4641 - accuracy: 0.8422 - val_loss: 0.3709 - val_accuracy: 0.8681\n",
            "Epoch 60/100\n",
            "469/469 [==============================] - 5s 11ms/step - loss: 0.4671 - accuracy: 0.8419 - val_loss: 0.3690 - val_accuracy: 0.8695\n",
            "Epoch 61/100\n",
            "469/469 [==============================] - 5s 11ms/step - loss: 0.4638 - accuracy: 0.8422 - val_loss: 0.3679 - val_accuracy: 0.8695\n",
            "Epoch 62/100\n",
            "469/469 [==============================] - 5s 11ms/step - loss: 0.4621 - accuracy: 0.8429 - val_loss: 0.3667 - val_accuracy: 0.8706\n",
            "Epoch 63/100\n",
            "469/469 [==============================] - 5s 11ms/step - loss: 0.4550 - accuracy: 0.8456 - val_loss: 0.3659 - val_accuracy: 0.8704\n",
            "Epoch 64/100\n",
            "469/469 [==============================] - 5s 11ms/step - loss: 0.4521 - accuracy: 0.8458 - val_loss: 0.3640 - val_accuracy: 0.8709\n",
            "Epoch 65/100\n",
            "469/469 [==============================] - 5s 11ms/step - loss: 0.4542 - accuracy: 0.8455 - val_loss: 0.3630 - val_accuracy: 0.8715\n",
            "Epoch 66/100\n",
            "469/469 [==============================] - 6s 12ms/step - loss: 0.4498 - accuracy: 0.8467 - val_loss: 0.3621 - val_accuracy: 0.8718\n",
            "Epoch 67/100\n",
            "469/469 [==============================] - 5s 11ms/step - loss: 0.4474 - accuracy: 0.8479 - val_loss: 0.3610 - val_accuracy: 0.8721\n",
            "Epoch 68/100\n",
            "469/469 [==============================] - 5s 11ms/step - loss: 0.4479 - accuracy: 0.8490 - val_loss: 0.3604 - val_accuracy: 0.8716\n",
            "Epoch 69/100\n",
            "469/469 [==============================] - 5s 11ms/step - loss: 0.4475 - accuracy: 0.8482 - val_loss: 0.3584 - val_accuracy: 0.8721\n",
            "Epoch 70/100\n",
            "469/469 [==============================] - 5s 11ms/step - loss: 0.4410 - accuracy: 0.8498 - val_loss: 0.3572 - val_accuracy: 0.8735\n",
            "Epoch 71/100\n",
            "469/469 [==============================] - 5s 11ms/step - loss: 0.4450 - accuracy: 0.8482 - val_loss: 0.3564 - val_accuracy: 0.8731\n",
            "Epoch 72/100\n",
            "469/469 [==============================] - 6s 12ms/step - loss: 0.4358 - accuracy: 0.8507 - val_loss: 0.3554 - val_accuracy: 0.8731\n",
            "Epoch 73/100\n",
            "469/469 [==============================] - 6s 13ms/step - loss: 0.4349 - accuracy: 0.8502 - val_loss: 0.3542 - val_accuracy: 0.8736\n",
            "Epoch 74/100\n",
            "469/469 [==============================] - 6s 12ms/step - loss: 0.4354 - accuracy: 0.8509 - val_loss: 0.3533 - val_accuracy: 0.8733\n",
            "Epoch 75/100\n",
            "469/469 [==============================] - 5s 12ms/step - loss: 0.4366 - accuracy: 0.8504 - val_loss: 0.3527 - val_accuracy: 0.8742\n",
            "Epoch 76/100\n",
            "469/469 [==============================] - 5s 11ms/step - loss: 0.4310 - accuracy: 0.8535 - val_loss: 0.3518 - val_accuracy: 0.8742\n",
            "Epoch 77/100\n",
            "469/469 [==============================] - 5s 11ms/step - loss: 0.4312 - accuracy: 0.8534 - val_loss: 0.3508 - val_accuracy: 0.8750\n",
            "Epoch 78/100\n",
            "469/469 [==============================] - 5s 11ms/step - loss: 0.4275 - accuracy: 0.8522 - val_loss: 0.3492 - val_accuracy: 0.8750\n",
            "Epoch 79/100\n",
            "469/469 [==============================] - 5s 11ms/step - loss: 0.4278 - accuracy: 0.8532 - val_loss: 0.3488 - val_accuracy: 0.8756\n",
            "Epoch 80/100\n",
            "469/469 [==============================] - 5s 11ms/step - loss: 0.4276 - accuracy: 0.8541 - val_loss: 0.3477 - val_accuracy: 0.8759\n",
            "Epoch 81/100\n",
            "469/469 [==============================] - 5s 11ms/step - loss: 0.4239 - accuracy: 0.8541 - val_loss: 0.3468 - val_accuracy: 0.8765\n",
            "Epoch 82/100\n",
            "469/469 [==============================] - 5s 11ms/step - loss: 0.4236 - accuracy: 0.8554 - val_loss: 0.3461 - val_accuracy: 0.8767\n",
            "Epoch 83/100\n",
            "469/469 [==============================] - 5s 11ms/step - loss: 0.4223 - accuracy: 0.8546 - val_loss: 0.3452 - val_accuracy: 0.8769\n",
            "Epoch 84/100\n",
            "469/469 [==============================] - 5s 11ms/step - loss: 0.4176 - accuracy: 0.8564 - val_loss: 0.3445 - val_accuracy: 0.8773\n",
            "Epoch 85/100\n",
            "469/469 [==============================] - 5s 11ms/step - loss: 0.4153 - accuracy: 0.8586 - val_loss: 0.3431 - val_accuracy: 0.8773\n",
            "Epoch 86/100\n",
            "469/469 [==============================] - 5s 11ms/step - loss: 0.4172 - accuracy: 0.8577 - val_loss: 0.3422 - val_accuracy: 0.8773\n",
            "Epoch 87/100\n",
            "469/469 [==============================] - 5s 11ms/step - loss: 0.4127 - accuracy: 0.8590 - val_loss: 0.3419 - val_accuracy: 0.8779\n",
            "Epoch 88/100\n",
            "469/469 [==============================] - 5s 11ms/step - loss: 0.4110 - accuracy: 0.8581 - val_loss: 0.3413 - val_accuracy: 0.8779\n",
            "Epoch 89/100\n",
            "469/469 [==============================] - 5s 11ms/step - loss: 0.4153 - accuracy: 0.8576 - val_loss: 0.3401 - val_accuracy: 0.8784\n",
            "Epoch 90/100\n",
            "469/469 [==============================] - 5s 11ms/step - loss: 0.4099 - accuracy: 0.8591 - val_loss: 0.3390 - val_accuracy: 0.8783\n",
            "Epoch 91/100\n",
            "469/469 [==============================] - 5s 11ms/step - loss: 0.4109 - accuracy: 0.8602 - val_loss: 0.3383 - val_accuracy: 0.8788\n",
            "Epoch 92/100\n",
            "469/469 [==============================] - 5s 11ms/step - loss: 0.4081 - accuracy: 0.8612 - val_loss: 0.3377 - val_accuracy: 0.8782\n",
            "Epoch 93/100\n",
            "469/469 [==============================] - 5s 11ms/step - loss: 0.4077 - accuracy: 0.8595 - val_loss: 0.3370 - val_accuracy: 0.8787\n",
            "Epoch 94/100\n",
            "469/469 [==============================] - 5s 11ms/step - loss: 0.4093 - accuracy: 0.8595 - val_loss: 0.3363 - val_accuracy: 0.8797\n",
            "Epoch 95/100\n",
            "469/469 [==============================] - 5s 11ms/step - loss: 0.4039 - accuracy: 0.8598 - val_loss: 0.3358 - val_accuracy: 0.8802\n",
            "Epoch 96/100\n",
            "469/469 [==============================] - 5s 12ms/step - loss: 0.4020 - accuracy: 0.8616 - val_loss: 0.3347 - val_accuracy: 0.8802\n",
            "Epoch 97/100\n",
            "469/469 [==============================] - 5s 11ms/step - loss: 0.4021 - accuracy: 0.8629 - val_loss: 0.3337 - val_accuracy: 0.8802\n",
            "Epoch 98/100\n",
            "469/469 [==============================] - 5s 11ms/step - loss: 0.4040 - accuracy: 0.8620 - val_loss: 0.3328 - val_accuracy: 0.8806\n",
            "Epoch 99/100\n",
            "469/469 [==============================] - 5s 11ms/step - loss: 0.4042 - accuracy: 0.8615 - val_loss: 0.3324 - val_accuracy: 0.8807\n",
            "Epoch 100/100\n",
            "469/469 [==============================] - 5s 11ms/step - loss: 0.3975 - accuracy: 0.8628 - val_loss: 0.3315 - val_accuracy: 0.8817\n",
            "Test loss:  0.3315410017967224\n",
            "Test accuracy 0.8816999793052673\n"
          ]
        }
      ]
    },
    {
      "cell_type": "code",
      "source": [
        "# Mount the google drive\n",
        "from google.colab import drive\n",
        "drive.mount('/content/drive')"
      ],
      "metadata": {
        "colab": {
          "base_uri": "https://localhost:8080/"
        },
        "id": "IYM1sDsZefvk",
        "outputId": "8b006f67-096d-4054-b93f-8ec29e42149a"
      },
      "execution_count": 14,
      "outputs": [
        {
          "output_type": "stream",
          "name": "stdout",
          "text": [
            "Drive already mounted at /content/drive; to attempt to forcibly remount, call drive.mount(\"/content/drive\", force_remount=True).\n"
          ]
        }
      ]
    },
    {
      "cell_type": "code",
      "source": [
        "# Change the directory to current working directory\n",
        "import os\n",
        "os.chdir(\"/content/drive/My Drive/Colab Notebooks\")"
      ],
      "metadata": {
        "id": "EScLhMfFs8xz"
      },
      "execution_count": 31,
      "outputs": []
    },
    {
      "cell_type": "code",
      "source": [
        "# Save the model with a name needed to upload\n",
        "model.save('clothing_classification.h5')"
      ],
      "metadata": {
        "id": "brHRwzX3wi7P"
      },
      "execution_count": 32,
      "outputs": []
    }
  ]
}